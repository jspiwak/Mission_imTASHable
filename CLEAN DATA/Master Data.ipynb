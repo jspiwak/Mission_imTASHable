{
 "cells": [
  {
   "cell_type": "code",
   "execution_count": 1,
   "metadata": {},
   "outputs": [],
   "source": [
    "import pandas as pd"
   ]
  },
  {
   "cell_type": "code",
   "execution_count": 2,
   "metadata": {},
   "outputs": [
    {
     "data": {
      "text/html": [
       "<div>\n",
       "<style scoped>\n",
       "    .dataframe tbody tr th:only-of-type {\n",
       "        vertical-align: middle;\n",
       "    }\n",
       "\n",
       "    .dataframe tbody tr th {\n",
       "        vertical-align: top;\n",
       "    }\n",
       "\n",
       "    .dataframe thead th {\n",
       "        text-align: right;\n",
       "    }\n",
       "</style>\n",
       "<table border=\"1\" class=\"dataframe\">\n",
       "  <thead>\n",
       "    <tr style=\"text-align: right;\">\n",
       "      <th></th>\n",
       "      <th>0</th>\n",
       "      <th>1</th>\n",
       "      <th>2</th>\n",
       "      <th>3</th>\n",
       "      <th>4</th>\n",
       "      <th>5</th>\n",
       "      <th>6</th>\n",
       "      <th>7</th>\n",
       "      <th>8</th>\n",
       "      <th>9</th>\n",
       "    </tr>\n",
       "  </thead>\n",
       "  <tbody>\n",
       "    <tr>\n",
       "      <th>0</th>\n",
       "      <td>Position</td>\n",
       "      <td>URL</td>\n",
       "      <td>Track Name</td>\n",
       "      <td>Artist</td>\n",
       "      <td>Streams</td>\n",
       "      <td>Genre</td>\n",
       "      <td>Country Code</td>\n",
       "      <td>Country_Name</td>\n",
       "      <td>Lat</td>\n",
       "      <td>Lon</td>\n",
       "    </tr>\n",
       "    <tr>\n",
       "      <th>1</th>\n",
       "      <td>1</td>\n",
       "      <td>0d2iYfpKoM0QCKvcLCkBao</td>\n",
       "      <td>Eastside (with Halsey &amp; Khalid)</td>\n",
       "      <td>benny blanco</td>\n",
       "      <td>298178</td>\n",
       "      <td>Pop</td>\n",
       "      <td>AU</td>\n",
       "      <td>AUSTRALIA</td>\n",
       "      <td>-25.274398</td>\n",
       "      <td>133.775136</td>\n",
       "    </tr>\n",
       "    <tr>\n",
       "      <th>2</th>\n",
       "      <td>2</td>\n",
       "      <td>3EPXxR3ImUwfayaurPi3cm</td>\n",
       "      <td>Be Alright</td>\n",
       "      <td>Dean Lewis</td>\n",
       "      <td>272653</td>\n",
       "      <td>Songwriter</td>\n",
       "      <td>AU</td>\n",
       "      <td>AUSTRALIA</td>\n",
       "      <td>-25.274398</td>\n",
       "      <td>133.775136</td>\n",
       "    </tr>\n",
       "    <tr>\n",
       "      <th>3</th>\n",
       "      <td>3</td>\n",
       "      <td>2G7V7zsVDxg1yRsu7Ew9RJ</td>\n",
       "      <td>In My Feelings</td>\n",
       "      <td>Drake</td>\n",
       "      <td>249405</td>\n",
       "      <td>Hip-Hop/Rap</td>\n",
       "      <td>AU</td>\n",
       "      <td>AUSTRALIA</td>\n",
       "      <td>-25.274398</td>\n",
       "      <td>133.775136</td>\n",
       "    </tr>\n",
       "    <tr>\n",
       "      <th>4</th>\n",
       "      <td>4</td>\n",
       "      <td>5WvAo7DNuPRmk4APhdPzi8</td>\n",
       "      <td>No Brainer</td>\n",
       "      <td>DJ Khaled</td>\n",
       "      <td>210002</td>\n",
       "      <td>Hip-Hop</td>\n",
       "      <td>AU</td>\n",
       "      <td>AUSTRALIA</td>\n",
       "      <td>-25.274398</td>\n",
       "      <td>133.775136</td>\n",
       "    </tr>\n",
       "  </tbody>\n",
       "</table>\n",
       "</div>"
      ],
      "text/plain": [
       "          0                       1                                2  \\\n",
       "0  Position                     URL                       Track Name   \n",
       "1         1  0d2iYfpKoM0QCKvcLCkBao  Eastside (with Halsey & Khalid)   \n",
       "2         2  3EPXxR3ImUwfayaurPi3cm                       Be Alright   \n",
       "3         3  2G7V7zsVDxg1yRsu7Ew9RJ                   In My Feelings   \n",
       "4         4  5WvAo7DNuPRmk4APhdPzi8                       No Brainer   \n",
       "\n",
       "              3        4            5             6             7           8  \\\n",
       "0        Artist  Streams        Genre  Country Code  Country_Name         Lat   \n",
       "1  benny blanco   298178          Pop            AU     AUSTRALIA  -25.274398   \n",
       "2    Dean Lewis   272653   Songwriter            AU     AUSTRALIA  -25.274398   \n",
       "3         Drake   249405  Hip-Hop/Rap            AU     AUSTRALIA  -25.274398   \n",
       "4     DJ Khaled   210002      Hip-Hop            AU     AUSTRALIA  -25.274398   \n",
       "\n",
       "            9  \n",
       "0         Lon  \n",
       "1  133.775136  \n",
       "2  133.775136  \n",
       "3  133.775136  \n",
       "4  133.775136  "
      ]
     },
     "execution_count": 2,
     "metadata": {},
     "output_type": "execute_result"
    }
   ],
   "source": [
    "file = \"Master Global Popular Tracks.csv\"\n",
    "file_df = pd.read_csv(file, header=None)\n",
    "file_df.head()"
   ]
  },
  {
   "cell_type": "code",
   "execution_count": 3,
   "metadata": {},
   "outputs": [],
   "source": [
    "from sqlalchemy import create_engine\n",
    "engine = create_engine('sqlite:///masterdata.sqlite', echo=False)"
   ]
  },
  {
   "cell_type": "code",
   "execution_count": 4,
   "metadata": {},
   "outputs": [],
   "source": [
    "file_df.to_sql(name='master_data',index=False,con=engine,if_exists='append')"
   ]
  },
  {
   "cell_type": "code",
   "execution_count": null,
   "metadata": {},
   "outputs": [],
   "source": []
  }
 ],
 "metadata": {
  "kernelspec": {
   "display_name": "Python 3",
   "language": "python",
   "name": "python3"
  },
  "language_info": {
   "codemirror_mode": {
    "name": "ipython",
    "version": 3
   },
   "file_extension": ".py",
   "mimetype": "text/x-python",
   "name": "python",
   "nbconvert_exporter": "python",
   "pygments_lexer": "ipython3",
   "version": "3.6.4"
  }
 },
 "nbformat": 4,
 "nbformat_minor": 2
}
